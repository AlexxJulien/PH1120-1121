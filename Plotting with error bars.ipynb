{
 "cells": [
  {
   "cell_type": "code",
   "execution_count": 12,
   "metadata": {},
   "outputs": [],
   "source": [
    "# Please use python 3.0 for this code\n",
    "\n",
    "import matplotlib.pyplot as plt\n",
    "import numpy as numpy\n"
   ]
  },
  {
   "cell_type": "code",
   "execution_count": 16,
   "metadata": {},
   "outputs": [],
   "source": [
    "#Data, but with fake numbers\n",
    "v = numpy.array([1,3,6,4,6,10,3.1])\n",
    "v_error = numpy.array([.06,.03,.06,.04,.06,.10,.031])\n",
    "\n",
    "\n",
    "I = numpy.array([.5,.3,.1,.4,.6,1,.355])\n",
    "I_error = numpy.array([.1,.03,.06,.04,.006,.10,.0031])\n",
    "\n"
   ]
  },
  {
   "cell_type": "code",
   "execution_count": 18,
   "metadata": {},
   "outputs": [
    {
     "name": "stdout",
     "output_type": "stream",
     "text": [
      "The slope is:  6.029640377241168 so the equation of this line is V =  6.029640377241168 *I +  1.9247886531542837\n"
     ]
    },
    {
     "data": {
      "image/png": "[encoded data removed]",
      "text/plain": [
       "<Figure size 432x288 with 1 Axes>"
      ]
     },
     "metadata": {
      "needs_background": "light"
     },
     "output_type": "display_data"
    }
   ],
   "source": [
    "#This code will plot the graph with error bars and a linear fit. \n",
    "\n",
    "m, b = numpy.polyfit(I,v,1) #If linear looks like it's the line that fits best\n",
    "plt.plot(I, m*I + b)\n",
    "\n",
    "plt.errorbar(I, v, yerr = v_error, xerr = I_error, fmt='o')\n",
    "plt.ylabel('Voltage (V)')\n",
    "plt.xlabel('Current (A)')\n",
    "plt.title('Voltage vs Current')\n",
    "print('The slope is: ',m, 'so the equation of this line is V = ',m,'*I + ',b)\n",
    "\n",
    "plt.show()"
   ]
  },
  {
   "cell_type": "code",
   "execution_count": null,
   "metadata": {},
   "outputs": [],
   "source": []
  },
  {
   "cell_type": "code",
   "execution_count": null,
   "metadata": {},
   "outputs": [],
   "source": []
  }
 ],
 "metadata": {
  "kernelspec": {
   "display_name": "Python 3",
   "language": "python",
   "name": "python3"
  },
  "language_info": {
   "codemirror_mode": {
    "name": "ipython",
    "version": 3
   },
   "file_extension": ".py",
   "mimetype": "text/x-python",
   "name": "python",
   "nbconvert_exporter": "python",
   "pygments_lexer": "ipython3",
   "version": "3.7.0"
  }
 },
 "nbformat": 4,
 "nbformat_minor": 2
}
