{
 "cells": [
  {
   "cell_type": "markdown",
   "metadata": {},
   "source": [
    "# 1120 Lab 3R\n",
    "This is written in Python 3"
   ]
  },
  {
   "cell_type": "code",
   "execution_count": 16,
   "metadata": {},
   "outputs": [],
   "source": [
    "import matplotlib.pyplot as plt\n",
    "import numpy as numpy"
   ]
  },
  {
   "cell_type": "code",
   "execution_count": 17,
   "metadata": {},
   "outputs": [],
   "source": [
    "#Data\n",
    "\n",
    "t = numpy.array([4.2, 3.1, 4.1, 4.9, 5.6, 6.0,7.5,7.7,4.0,5.3]) #time in their units\n",
    "dt = (t-t[0]) * (10**(-4))\n",
    "v = numpy.array([2.7,3.7,2.8,2.3,2.0,1.8,1.3,1.1,3.0,2.0]) #voltage in volts \n",
    "lnv = numpy.log(v) #natural log of the voltage"
   ]
  },
  {
   "cell_type": "code",
   "execution_count": 18,
   "metadata": {},
   "outputs": [
    {
     "data": {
      "text/plain": [
       "[<matplotlib.lines.Line2D at 0x7f631297a710>]"
      ]
     },
     "execution_count": 18,
     "metadata": {},
     "output_type": "execute_result"
    },
    {
     "data": {
      "image/png": "[encoded data removed]",
      "text/plain": [
       "<Figure size 432x288 with 1 Axes>"
      ]
     },
     "metadata": {
      "needs_background": "light"
     },
     "output_type": "display_data"
    }
   ],
   "source": [
    "plt.plot(dt,v, 'ro') #uses matplotlib to plot voltage vs current\n"
   ]
  },
  {
   "cell_type": "code",
   "execution_count": 19,
   "metadata": {},
   "outputs": [
    {
     "data": {
      "text/plain": [
       "[<matplotlib.lines.Line2D at 0x7f63128d2f60>]"
      ]
     },
     "execution_count": 19,
     "metadata": {},
     "output_type": "execute_result"
    },
    {
     "data": {
      "image/png": "[encoded data removed]",
      "text/plain": [
       "<Figure size 432x288 with 1 Axes>"
      ]
     },
     "metadata": {
      "needs_background": "light"
     },
     "output_type": "display_data"
    }
   ],
   "source": [
    "plt.plot(dt,lnv, 'ro') #uses matplotlib to plot voltage vs current\n",
    "\n",
    "plt.xlim(0-.00001, dt[-1]+.0001)\n",
    "\n",
    "plt.ylim(lnv[-1] - .1, lnv[0]+.1)\n",
    "\n",
    "plt.ylabel('ln(V) (V)')\n",
    "plt.xlabel('Time (seconds)')\n",
    "plt.title('things')\n",
    "\n",
    "m, b = numpy.polyfit(dt,lnv,1) #If linear looks like it's the line that fits best\n",
    "plt.plot(dt, m*dt + b)"
   ]
  },
  {
   "cell_type": "code",
   "execution_count": 20,
   "metadata": {},
   "outputs": [
    {
     "name": "stdout",
     "output_type": "stream",
     "text": [
      "The slope is:  -2483.3053076249903 so the equation of this line is ln(V) =  -2483.3053076249903 *I +  1.0177118411668644\n"
     ]
    }
   ],
   "source": [
    "print('The slope is: ',m, 'so the equation of this line is ln(V) = ',m,'*I + ',b)\n",
    "#Please remember to use proper significant figures. "
   ]
  },
  {
   "cell_type": "markdown",
   "metadata": {},
   "source": [
    "R = 200 #Ohms resisistor\n",
    "\n",
    "Remember, m from above is our slope. So we know Slope = -1/RC, and we want to solve for C. Therefore we need to solve for C = - 1/ (m *R). "
   ]
  },
  {
   "cell_type": "code",
   "execution_count": 21,
   "metadata": {},
   "outputs": [
    {
     "name": "stdout",
     "output_type": "stream",
     "text": [
      "2.013445541572153e-06\n",
      "0.02013445541572153\n"
     ]
    }
   ],
   "source": [
    "C = -1/(m*200)\n",
    "print(C)\n",
    "print(C*(10**4))"
   ]
  },
  {
   "cell_type": "code",
   "execution_count": 22,
   "metadata": {},
   "outputs": [
    {
     "data": {
      "text/plain": [
       "[<matplotlib.lines.Line2D at 0x7f63128b8780>]"
      ]
     },
     "execution_count": 22,
     "metadata": {},
     "output_type": "execute_result"
    },
    {
     "data": {
      "image/png": "[encoded data removed]",
      "text/plain": [
       "<Figure size 432x288 with 1 Axes>"
      ]
     },
     "metadata": {
      "needs_background": "light"
     },
     "output_type": "display_data"
    }
   ],
   "source": [
    "plt.plot(dt,lnv, 'ro') #uses matplotlib to plot voltage vs current"
   ]
  },
  {
   "cell_type": "code",
   "execution_count": 43,
   "metadata": {},
   "outputs": [
    {
     "name": "stdout",
     "output_type": "stream",
     "text": [
      "0.1344554157215305 % error\n"
     ]
    }
   ],
   "source": [
    "e1 = C-(2E-6)\n",
    "e2 = e1 / abs(10E-6)\n",
    "error = e2 * 100\n",
    "print(error, '% error')"
   ]
  }
 ],
 "metadata": {
  "kernelspec": {
   "display_name": "Python 3",
   "language": "python",
   "name": "python3"
  },
  "language_info": {
   "codemirror_mode": {
    "name": "ipython",
    "version": 3
   },
   "file_extension": ".py",
   "mimetype": "text/x-python",
   "name": "python",
   "nbconvert_exporter": "python",
   "pygments_lexer": "ipython3",
   "version": "3.7.0"
  }
 },
 "nbformat": 4,
 "nbformat_minor": 2
}
