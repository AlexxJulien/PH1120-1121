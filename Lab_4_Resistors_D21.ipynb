{
 "cells": [
  {
   "cell_type": "code",
   "execution_count": 6,
   "metadata": {},
   "outputs": [],
   "source": [
    "#------------------------------\n",
    "# Copyright Anna Mederer 2023\n",
    "#------------------------------\n",
    "\n",
    "#Voltage, voltage uncertainty, current, and current uncertainty from LoggerPro\n",
    "#Note: all numbers are randomly chosen for this example and should not be compared to the values you get\n",
    "V1, V1u, I1, I1u = 51.1, 0.01, 1.0, 0.002 #51 ohm Resistor 1\n",
    "V2, V2u, I2, I2u = 50.9, 0.02, 1.1, 0.001 #51 ohm Resistor 2\n",
    "V3, V3u, I3, I3u = 68.1, 0.01, 0.9, 0.002 #68 ohm Resistor 1\n",
    "V4, V4u, I4, I4u = 67.9, 0.02, 1.0, 0.001 #68 ohm Resistor 2\n",
    "Vss, Vssu, Iss, Issu = 118, 0.03, 1.1, 0.004 # series\n",
    "Vpp, Vppu, Ipp, Ippu = 29, 0.01, 0.9, 0.001 # parallel"
   ]
  },
  {
   "cell_type": "code",
   "execution_count": 7,
   "metadata": {},
   "outputs": [
    {
     "name": "stdout",
     "output_type": "stream",
     "text": [
      "Resistor 1 = 51 +/- 2.55 ohms\n",
      "Resistor 2 = 68 +/- 3.4 ohms\n",
      "Resistor series = 102 +/- 6.8 ohms\n",
      "Resistor parallel = 29.143 +/- 1.457 ohms\n",
      "\n",
      "Resistor 51 ohm 1 = 51.1 +/- 0.112 ohms\n",
      "Resistor 51 ohm 2 = 46.273 +/- 0.06 ohms\n",
      "Resistor 68 ohm 1 = 75.667 +/- 0.179 ohms\n",
      "Resistor 68 ohm 2 = 67.9 +/- 0.088 ohms\n",
      "Resistor series experimental = 107.273 +/- 0.417 ohms\n",
      "Resistor parallel experimental = 32.222 +/- 0.047 ohms\n"
     ]
    }
   ],
   "source": [
    "\"\"\"\n",
    "Rated Uncertainty\n",
    "\"\"\"\n",
    "R51 = 51\n",
    "R51u = 51*0.05\n",
    "R68 = 68\n",
    "R68u = 68*0.05\n",
    "\n",
    "#The series and parallel configurations below use one 51 ohm resistor and one 68 ohm resistor\n",
    "#If you used a different configurations, need to edit the next few lines of code (Equations 3, 1, 4, and 5)\n",
    "\n",
    "#in series\n",
    "Rs = R51 + R68 #Equation 3\n",
    "Rsu = R51u +R68u #Equation 1\n",
    "\n",
    "#in parallel\n",
    "Rp = 1/(1/R51 + 1/R68) #Equation 4\n",
    "Rpu = (R68**2/(R51+R68)**2)*R51u + (R51**2/(R51+R68)**2)*R68u #Equation 5\n",
    "\n",
    "def showResistance(R, uncer, name): # print the capacitance and uncertainty in microFarads\n",
    "    print(\"Resistor\", name, \"=\", (round(R, 3)), \"+/-\", (round(uncer, 3)), \"ohms\")\n",
    "    return\n",
    "\n",
    "showResistance(R51, R51u, 1)\n",
    "showResistance(R68, R68u, 2)\n",
    "showResistance(Rs, Rsu, \"series\")\n",
    "showResistance(Rp, Rpu, \"parallel\")\n",
    "print() #creates line break between rated and calculated values\n",
    "\n",
    "\"\"\"\n",
    "Calculated Uncertainty\n",
    "\"\"\"\n",
    "def uncerMD(V, Vu, I, Iu): # Equation 2: calculate the uncertainty for measurements with * or / \n",
    "    return (Vu/V +Iu/I)*(V/I)\n",
    "\n",
    "R1 = V1/I1\n",
    "R1u = uncerMD(V1, V1u, I1, I1u)\n",
    "\n",
    "R2 = V2/I2\n",
    "R2u = uncerMD(V2, V2u, I2, I2u)\n",
    "\n",
    "R3 = V3/I3\n",
    "R3u = uncerMD(V3, V3u, I3, I3u)\n",
    "\n",
    "R4 = V4/I4\n",
    "R4u = uncerMD(V4, V4u, I4, I4u)\n",
    "\n",
    "Rss = Vss/Iss\n",
    "Rssu = uncerMD(Vss, Vssu, Iss, Issu)\n",
    "\n",
    "Rpp = Vpp/Ipp\n",
    "Rppu = uncerMD(Vpp, Vppu, Ipp, Ippu)\n",
    "\n",
    "showResistance(R1, R1u, \"51 ohm 1\")\n",
    "showResistance(R2, R2u, \"51 ohm 2\")\n",
    "showResistance(R3, R3u, \"68 ohm 1\")\n",
    "showResistance(R4, R4u, \"68 ohm 2\")\n",
    "showResistance(Rss, Rssu, \"series experimental\")\n",
    "showResistance(Rpp, Rppu, \"parallel experimental\")"
   ]
  }
 ],
 "metadata": {
  "kernelspec": {
   "display_name": "Python 3",
   "language": "python",
   "name": "python3"
  },
  "language_info": {
   "codemirror_mode": {
    "name": "ipython",
    "version": 3
   },
   "file_extension": ".py",
   "mimetype": "text/x-python",
   "name": "python",
   "nbconvert_exporter": "python",
   "pygments_lexer": "ipython3",
   "version": "3.7.0"
  }
 },
 "nbformat": 4,
 "nbformat_minor": 2
}
