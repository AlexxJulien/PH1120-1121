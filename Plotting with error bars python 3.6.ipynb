{
 "cells": [
  {
   "cell_type": "markdown",
   "metadata": {},
   "source": [
    "matplotlib is accessible by adding a new cell at the top and writing\n",
    " \n",
    "pip install matplotlib\n",
    " \n",
    "and running the cell. After restarting the kernel, matplotlib should be accessible\n",
    " "
   ]
  },
  {
   "cell_type": "code",
   "execution_count": 4,
   "metadata": {},
   "outputs": [
    {
     "name": "stdout",
     "output_type": "stream",
     "text": [
      "Defaulting to user installation because normal site-packages is not writeable\n",
      "Requirement already satisfied: matplotlib in /home/ldana@admin.wpi.edu/.local/lib/python3.6/site-packages (3.3.4)\n",
      "Requirement already satisfied: cycler>=0.10 in /home/ldana@admin.wpi.edu/.local/lib/python3.6/site-packages (from matplotlib) (0.11.0)\n",
      "Requirement already satisfied: kiwisolver>=1.0.1 in /home/ldana@admin.wpi.edu/.local/lib/python3.6/site-packages (from matplotlib) (1.3.1)\n",
      "Requirement already satisfied: numpy>=1.15 in /usr/local/anaconda3/envs/python3.6-vpython/lib/python3.6/site-packages (from matplotlib) (1.18.1)\n",
      "Requirement already satisfied: pyparsing!=2.0.4,!=2.1.2,!=2.1.6,>=2.0.3 in /home/ldana@admin.wpi.edu/.local/lib/python3.6/site-packages (from matplotlib) (3.1.1)\n",
      "Requirement already satisfied: python-dateutil>=2.1 in /usr/local/anaconda3/envs/python3.6-vpython/lib/python3.6/site-packages (from matplotlib) (2.8.1)\n",
      "Requirement already satisfied: pillow>=6.2.0 in /home/ldana@admin.wpi.edu/.local/lib/python3.6/site-packages (from matplotlib) (8.4.0)\n",
      "Requirement already satisfied: six>=1.5 in /usr/local/anaconda3/envs/python3.6-vpython/lib/python3.6/site-packages (from python-dateutil>=2.1->matplotlib) (1.11.0)\n",
      "Note: you may need to restart the kernel to use updated packages.\n"
     ]
    }
   ],
   "source": [
    "pip install matplotlib"
   ]
  },
  {
   "cell_type": "code",
   "execution_count": 2,
   "metadata": {},
   "outputs": [],
   "source": [
    "# Please use python 3.6 for this code\n",
    "\n",
    "import matplotlib.pyplot as plt\n",
    "import numpy as numpy\n",
    "from matplotlib import pyplot as plt\n"
   ]
  },
  {
   "cell_type": "code",
   "execution_count": 3,
   "metadata": {},
   "outputs": [],
   "source": [
    "#Data, but with fake numbers\n",
    "v = numpy.array([1,3,6,4,6,10,3.1])\n",
    "v_error = numpy.array([.06,.03,.06,.04,.06,.10,.031])\n",
    "\n",
    "\n",
    "I = numpy.array([.5,.3,.1,.4,.6,1,.355])\n",
    "I_error = numpy.array([.1,.03,.06,.04,.006,.10,.0031])\n",
    "\n"
   ]
  },
  {
   "cell_type": "code",
   "execution_count": 4,
   "metadata": {},
   "outputs": [
    {
     "name": "stdout",
     "output_type": "stream",
     "text": [
      "The slope is:  6.029640377241168 so the equation of this line is V =  6.029640377241168 *I +  1.9247886531542837\n"
     ]
    },
    {
     "data": {
      "image/png": "[encoded data removed]",
      "text/plain": [
       "<Figure size 432x288 with 1 Axes>"
      ]
     },
     "metadata": {
      "needs_background": "light"
     },
     "output_type": "display_data"
    }
   ],
   "source": [
    "#This code will plot the graph with error bars and a linear fit. \n",
    "\n",
    "m, b = numpy.polyfit(I,v,1) #If linear looks like it's the line that fits best\n",
    "\n",
    "\n",
    "\n",
    "plt.plot(I, m*I + b)\n",
    "\n",
    "plt.errorbar(I, v, yerr = v_error, xerr = I_error, fmt='o')\n",
    "plt.ylabel('Voltage (V)')\n",
    "plt.xlabel('Current (A)')\n",
    "plt.title('Voltage vs Current')\n",
    "print('The slope is: ',m, 'so the equation of this line is V = ',m,'*I + ',b)\n",
    "\n",
    "plt.show()"
   ]
  },
  {
   "cell_type": "code",
   "execution_count": null,
   "metadata": {},
   "outputs": [],
   "source": []
  },
  {
   "cell_type": "code",
   "execution_count": null,
   "metadata": {},
   "outputs": [],
   "source": []
  }
 ],
 "metadata": {
  "kernelspec": {
   "display_name": "Python 3.6 (vpython)",
   "language": "python",
   "name": "python3.6-vpython"
  },
  "language_info": {
   "codemirror_mode": {
    "name": "ipython",
    "version": 3
   },
   "file_extension": ".py",
   "mimetype": "text/x-python",
   "name": "python",
   "nbconvert_exporter": "python",
   "pygments_lexer": "ipython3",
   "version": "3.6.10"
  }
 },
 "nbformat": 4,
 "nbformat_minor": 2
}
