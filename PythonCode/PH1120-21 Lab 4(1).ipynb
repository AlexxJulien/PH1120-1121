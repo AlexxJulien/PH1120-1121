{
 "cells": [
  {
   "cell_type": "code",
   "execution_count": null,
   "metadata": {},
   "outputs": [],
   "source": [
    "#===========================================================\n",
    "# WPI PHYSICS DEPARTMENT - 2020-2021\n",
    "# PH1120/21 Lab 4 - Resistance\n",
    "# Sample code for calculating resistance and uncertainties\n",
    "#-----------------------------------------------------------\n",
    "# Copyright Amelia Nishimura 2020 :v\n",
    "#-----------------------------------------------------------\n",
    "# You will need to use the code in first cell multiple times \n",
    "# to calculate resistance for different trials, just insert\n",
    "# new cells and copy over the code, changing the values as \n",
    "# needed. Adding or editing comments may help you keep track \n",
    "# of which cell corresponds to which trial!"
   ]
  },
  {
   "cell_type": "code",
   "execution_count": 7,
   "metadata": {},
   "outputs": [
    {
     "name": "stdout",
     "output_type": "stream",
     "text": [
      "R = 31.25+/-14.0625 Ohms\n"
     ]
    }
   ],
   "source": [
    "# Resistance from potential and current\n",
    "\n",
    "V = 2.5 # potential\n",
    "dV = 0.5 # uncertainty for potential\n",
    "\n",
    "I = 0.08 # current\n",
    "dI = 0.02 # uncertainty for current\n",
    "\n",
    "R = V / I\n",
    "dR = abs(R) * (dV / abs(V) + dI / abs(I))\n",
    "\n",
    "print(f'R = {R}+/-{dR} Ohms')"
   ]
  },
  {
   "cell_type": "code",
   "execution_count": 8,
   "metadata": {},
   "outputs": [
    {
     "name": "stdout",
     "output_type": "stream",
     "text": [
      "Series R = 118.0+/-1.9 Ohms\n",
      "Parallel R = 28.95762711864407+/-0.47695346164895147 Ohms\n"
     ]
    }
   ],
   "source": [
    "# Expected series and parallel resistances\n",
    "\n",
    "R1 = 51.0\n",
    "dR1 = 0.9\n",
    "\n",
    "R2 = 67.0\n",
    "dR2 = 1\n",
    "\n",
    "# Series\n",
    "R_series = R1 + R2\n",
    "dR_series = dR1 + dR2\n",
    "\n",
    "# Parallel\n",
    "R_parallel = (R1 * R2) / (R1 + R2)\n",
    "dR_parallel = (dR1 * (R2 ** 2)) / ((R1 + R2) ** 2) + (dR2 * (R1 ** 2)) / ((R1 + R2) ** 2)\n",
    "\n",
    "print(f'Series R = {R_series}+/-{dR_series} Ohms')\n",
    "print(f'Parallel R = {R_parallel}+/-{dR_parallel} Ohms')"
   ]
  },
  {
   "cell_type": "code",
   "execution_count": null,
   "metadata": {},
   "outputs": [],
   "source": []
  }
 ],
 "metadata": {
  "kernelspec": {
   "display_name": "Python 3",
   "language": "python",
   "name": "python3"
  },
  "language_info": {
   "codemirror_mode": {
    "name": "ipython",
    "version": 3
   },
   "file_extension": ".py",
   "mimetype": "text/x-python",
   "name": "python",
   "nbconvert_exporter": "python",
   "pygments_lexer": "ipython3",
   "version": "3.7.0"
  }
 },
 "nbformat": 4,
 "nbformat_minor": 2
}
