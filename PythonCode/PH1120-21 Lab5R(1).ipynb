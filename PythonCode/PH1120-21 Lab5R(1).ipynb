{
 "cells": [
  {
   "cell_type": "code",
   "execution_count": null,
   "metadata": {},
   "outputs": [],
   "source": [
    "#===========================================================\n",
    "# WPI PHYSICS DEPARTMENT - 2020-2021\n",
    "# PH1120/21 Lab 5R - Simulation\n",
    "# Sample code for calculating line of best fit\n",
    "#-----------------------------------------------------------\n",
    "# Copyright Amelia Nishimura 2020 :v\n",
    "#-----------------------------------------------------------"
   ]
  },
  {
   "cell_type": "code",
   "execution_count": 9,
   "metadata": {},
   "outputs": [
    {
     "name": "stdout",
     "output_type": "stream",
     "text": [
      "Line of best fit slope: \n",
      "0.8499999999999996\n"
     ]
    },
    {
     "data": {
      "text/plain": [
       "[<matplotlib.lines.Line2D at 0x7f9e7398f128>]"
      ]
     },
     "execution_count": 9,
     "metadata": {},
     "output_type": "execute_result"
    },
    {
     "data": {
      "image/png": "[encoded data removed]",
      "text/plain": [
       "<Figure size 432x288 with 1 Axes>"
      ]
     },
     "metadata": {
      "needs_background": "light"
     },
     "output_type": "display_data"
    }
   ],
   "source": [
    "import numpy as np\n",
    "import matplotlib.pyplot as plt\n",
    "\n",
    "I = np.array([1, 2, 3, 4, 5]) # Current\n",
    "B = np.array([4, 2.5, 6, 3, 8]) # Magnetic field: Replace these with your own values!\n",
    "\n",
    "deg = 1 # Degree of polynomial fit function - 1 for a line\n",
    "\n",
    "m, b = np.polyfit(I, B, deg) # Find m and b for line of best fit: y = mx + b\n",
    "\n",
    "print(\"Line of best fit slope: \")\n",
    "print(m)\n",
    "\n",
    "plt.plot(I, B, 'o')  # Plot the individual data points\n",
    "plt.plot(I, m*I + b) # Plot the line of best fit"
   ]
  },
  {
   "cell_type": "code",
   "execution_count": null,
   "metadata": {},
   "outputs": [],
   "source": []
  }
 ],
 "metadata": {
  "kernelspec": {
   "display_name": "Python 3",
   "language": "python",
   "name": "python3"
  },
  "language_info": {
   "codemirror_mode": {
    "name": "ipython",
    "version": 3
   },
   "file_extension": ".py",
   "mimetype": "text/x-python",
   "name": "python",
   "nbconvert_exporter": "python",
   "pygments_lexer": "ipython3",
   "version": "3.7.0"
  }
 },
 "nbformat": 4,
 "nbformat_minor": 2
}
