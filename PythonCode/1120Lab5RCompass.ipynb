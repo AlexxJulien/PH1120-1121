{
 "cells": [
  {
   "cell_type": "code",
   "execution_count": 3,
   "metadata": {},
   "outputs": [],
   "source": [
    "import matplotlib.pyplot as plt\n",
    "import numpy as numpy"
   ]
  },
  {
   "cell_type": "code",
   "execution_count": 4,
   "metadata": {},
   "outputs": [],
   "source": [
    "#Data\n",
    "#Setup 1\n",
    "t1 = numpy.array([10,7,7,17,9,4]) #time in seconds\n",
    "d1 = numpy.array([90,90,180,180,270,270]) #deflection angle\n",
    "\n",
    "#Setup 2\n",
    "\n",
    "t2 = numpy.array([15,21,15,26,7,14]) #time in seconds\n",
    "d2 = numpy.array([90,90,180,180,270,270]) #deflection angle"
   ]
  },
  {
   "cell_type": "code",
   "execution_count": 5,
   "metadata": {},
   "outputs": [
    {
     "data": {
      "text/plain": [
       "Text(0.5,1,'title')"
      ]
     },
     "execution_count": 5,
     "metadata": {},
     "output_type": "execute_result"
    },
    {
     "data": {
      "image/png": "[encoded data removed]",
      "text/plain": [
       "<Figure size 432x288 with 1 Axes>"
      ]
     },
     "metadata": {
      "needs_background": "light"
     },
     "output_type": "display_data"
    }
   ],
   "source": [
    "plt.plot(d1,t1, 'ro') #uses matplotlib to plot deflection vs time\n",
    "plt.plot(d2,t2, 'bo') #uses matplotlib to plot deflection vs time\n",
    "\n",
    "plt.ylabel('some numbers')\n",
    "plt.xlabel('more numbers')\n",
    "plt.title('title')\n"
   ]
  },
  {
   "cell_type": "code",
   "execution_count": null,
   "metadata": {},
   "outputs": [],
   "source": []
  }
 ],
 "metadata": {
  "kernelspec": {
   "display_name": "Python 3",
   "language": "python",
   "name": "python3"
  },
  "language_info": {
   "codemirror_mode": {
    "name": "ipython",
    "version": 3
   },
   "file_extension": ".py",
   "mimetype": "text/x-python",
   "name": "python",
   "nbconvert_exporter": "python",
   "pygments_lexer": "ipython3",
   "version": "3.7.0"
  }
 },
 "nbformat": 4,
 "nbformat_minor": 2
}
